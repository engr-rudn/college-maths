{
 "cells": [
  {
   "cell_type": "markdown",
   "id": "450d5b96-bb09-4cf5-8915-09bddbeb8d29",
   "metadata": {},
   "source": [
    "# Workflows, a.k.a. programming"
   ]
  },
  {
   "cell_type": "markdown",
   "id": "77c9fc5b-eefc-43e0-8408-fd1d07474359",
   "metadata": {},
   "source": [
    "## Loops"
   ]
  },
  {
   "cell_type": "code",
   "execution_count": 1,
   "id": "b94020e2-e704-4001-8204-180fc988579e",
   "metadata": {},
   "outputs": [],
   "source": [
    "animals = [\"lion\", \"tiger\", \"crocodile\", \"vulture\", \"hippo\"]"
   ]
  },
  {
   "cell_type": "code",
   "execution_count": 2,
   "id": "7a4d3cf7-135d-425b-9e0a-4cb942c8b792",
   "metadata": {},
   "outputs": [
    {
     "data": {
      "text/plain": [
       "5"
      ]
     },
     "execution_count": 2,
     "metadata": {},
     "output_type": "execute_result"
    }
   ],
   "source": [
    "len(animals)"
   ]
  },
  {
   "cell_type": "code",
   "execution_count": 3,
   "id": "ebe4382c-01ea-4898-bdeb-a026cdec7f66",
   "metadata": {},
   "outputs": [
    {
     "data": {
      "text/plain": [
       "['crocodile', 'vulture', 'hippo']"
      ]
     },
     "execution_count": 3,
     "metadata": {},
     "output_type": "execute_result"
    }
   ],
   "source": [
    "animals[2:]"
   ]
  },
  {
   "cell_type": "code",
   "execution_count": 4,
   "id": "b3275aa6-9019-4e00-918c-dd13a147c7cc",
   "metadata": {},
   "outputs": [
    {
     "name": "stdout",
     "output_type": "stream",
     "text": [
      "lion\n",
      "tiger\n",
      "crocodile\n",
      "vulture\n",
      "hippo\n"
     ]
    }
   ],
   "source": [
    "for creature in animals:\n",
    "    print(creature)"
   ]
  },
  {
   "cell_type": "markdown",
   "id": "c247ced2-c075-4f95-a3ca-271e904932b7",
   "metadata": {},
   "source": [
    "The above loop is equivalent to me typing:"
   ]
  },
  {
   "cell_type": "code",
   "execution_count": 5,
   "id": "d3784dcb-9483-4dba-aaac-874400554193",
   "metadata": {},
   "outputs": [
    {
     "name": "stdout",
     "output_type": "stream",
     "text": [
      "lion\n",
      "tiger\n",
      "hippo\n"
     ]
    }
   ],
   "source": [
    "creature = \"lion\"\n",
    "print(creature)\n",
    "creature = \"tiger\"\n",
    "print(creature)\n",
    "# ...\n",
    "creature = \"hippo\"\n",
    "print(creature)"
   ]
  },
  {
   "cell_type": "code",
   "execution_count": 6,
   "id": "e1892069-a17f-4238-b023-56381c468755",
   "metadata": {},
   "outputs": [
    {
     "name": "stdout",
     "output_type": "stream",
     "text": [
      "lion\n",
      "tiger\n",
      "crocodile\n",
      "vulture\n",
      "hippo\n"
     ]
    }
   ],
   "source": [
    "for animal in animals:\n",
    "    print(animal)"
   ]
  },
  {
   "cell_type": "code",
   "execution_count": 7,
   "id": "be48daa8-32eb-4b99-8cf3-336272c6edd4",
   "metadata": {},
   "outputs": [
    {
     "name": "stdout",
     "output_type": "stream",
     "text": [
      "lion\n",
      "still in the loop!\n",
      "tiger\n",
      "still in the loop!\n",
      "crocodile\n",
      "still in the loop!\n",
      "vulture\n",
      "still in the loop!\n",
      "hippo\n",
      "still in the loop!\n",
      "not in loop any longer\n"
     ]
    }
   ],
   "source": [
    "for creature in animals:\n",
    "    print(creature)\n",
    "    print(\"still in the loop!\")\n",
    "print(\"not in loop any longer\")"
   ]
  },
  {
   "cell_type": "markdown",
   "id": "10a19aea-28b4-485b-90a8-a551f0e1d9ff",
   "metadata": {},
   "source": [
    "Need to be consistent in indentation!"
   ]
  },
  {
   "cell_type": "code",
   "execution_count": 8,
   "id": "e9395a57-beca-422f-b5a7-732bbb31c575",
   "metadata": {},
   "outputs": [
    {
     "ename": "IndentationError",
     "evalue": "unexpected indent (<ipython-input-8-94a35d63d2a4>, line 3)",
     "output_type": "error",
     "traceback": [
      "\u001b[0;36m  File \u001b[0;32m\"<ipython-input-8-94a35d63d2a4>\"\u001b[0;36m, line \u001b[0;32m3\u001b[0m\n\u001b[0;31m    print(\"still in the loop!\")\u001b[0m\n\u001b[0m    ^\u001b[0m\n\u001b[0;31mIndentationError\u001b[0m\u001b[0;31m:\u001b[0m unexpected indent\n"
     ]
    }
   ],
   "source": [
    "for creature in animals:\n",
    "    print(creature)\n",
    "        print(\"still in the loop!\")\n",
    "print(\"not in loop any longer\")"
   ]
  },
  {
   "cell_type": "code",
   "execution_count": 9,
   "id": "83e36f0d-d524-4baf-927f-bd9ce7f14356",
   "metadata": {},
   "outputs": [
    {
     "name": "stdout",
     "output_type": "stream",
     "text": [
      "lion\n",
      "tiger\n",
      "crocodile\n",
      "vulture\n",
      "hippo\n"
     ]
    }
   ],
   "source": [
    "for creature in animals:\n",
    "    print(creature)"
   ]
  },
  {
   "cell_type": "code",
   "execution_count": 10,
   "id": "8ba2a020-fb03-40db-97ba-5c1166bb2274",
   "metadata": {},
   "outputs": [
    {
     "name": "stdout",
     "output_type": "stream",
     "text": [
      "lion, \n",
      "tiger, \n",
      "crocodile, \n",
      "vulture, \n",
      "hippo, \n"
     ]
    }
   ],
   "source": [
    "for creature in animals:\n",
    "    print(creature + \", \")"
   ]
  },
  {
   "cell_type": "code",
   "execution_count": 11,
   "id": "05ade256-29ce-44e1-8a7e-86ce71520e46",
   "metadata": {},
   "outputs": [
    {
     "name": "stdout",
     "output_type": "stream",
     "text": [
      "lion, tiger, crocodile, vulture, hippo, "
     ]
    }
   ],
   "source": [
    "for creature in animals:\n",
    "    print(creature + \", \", end=\"\")"
   ]
  },
  {
   "cell_type": "code",
   "execution_count": 12,
   "id": "1b6087c1-1aad-4fa6-b479-d2047f049fd5",
   "metadata": {},
   "outputs": [
    {
     "name": "stdout",
     "output_type": "stream",
     "text": [
      "lion, tiger, crocodile, vulture, hippo, "
     ]
    }
   ],
   "source": [
    "for creature in animals:\n",
    "    print(creature, end=\", \")"
   ]
  },
  {
   "cell_type": "code",
   "execution_count": 14,
   "id": "28388dd6-307d-4eb3-a3a3-972a975a24b5",
   "metadata": {},
   "outputs": [
    {
     "data": {
      "text/plain": [
       "'lion, tiger, crocodile, vulture, hippo'"
      ]
     },
     "execution_count": 14,
     "metadata": {},
     "output_type": "execute_result"
    }
   ],
   "source": [
    "\", \".join(animals)"
   ]
  },
  {
   "cell_type": "markdown",
   "id": "560fe22d-d0a6-439d-a065-d0e87cb361ba",
   "metadata": {},
   "source": [
    "## Conditional statements"
   ]
  },
  {
   "cell_type": "code",
   "execution_count": 15,
   "id": "c136c4de-0168-47b7-bb13-e2a88e9b8a0b",
   "metadata": {},
   "outputs": [
    {
     "name": "stdout",
     "output_type": "stream",
     "text": [
      "lion, tiger, crocodile, vulture, hippo\n"
     ]
    }
   ],
   "source": [
    "for i in animals:\n",
    "    if(i != \"hippo\"):\n",
    "        print(i, end=', ')\n",
    "    else:\n",
    "        print(i)"
   ]
  },
  {
   "cell_type": "code",
   "execution_count": 17,
   "id": "15a26761-b7ed-47dc-bcba-64694bb3435a",
   "metadata": {},
   "outputs": [
    {
     "name": "stdout",
     "output_type": "stream",
     "text": [
      "a is positive\n",
      "outside of if statement\n"
     ]
    }
   ],
   "source": [
    "a = 5\n",
    "if a < 0:\n",
    "    print(\"a is negative\")\n",
    "elif a == 0:\n",
    "    print(\"a is zero\")\n",
    "else:\n",
    "    print(\"a is positive\")\n",
    "print(\"outside of if statement\")"
   ]
  },
  {
   "cell_type": "code",
   "execution_count": 18,
   "id": "7285cc67-04f2-4c97-947a-c596c18580e6",
   "metadata": {},
   "outputs": [
    {
     "name": "stdout",
     "output_type": "stream",
     "text": [
      "a is negative\n",
      "outside of if statement\n"
     ]
    }
   ],
   "source": [
    "a = -5\n",
    "if a < 0:\n",
    "    print(\"a is negative\")\n",
    "elif a == 0:\n",
    "    print(\"a is zero\")\n",
    "else:\n",
    "    print(\"a is positive\")\n",
    "print(\"outside of if statement\")"
   ]
  },
  {
   "cell_type": "code",
   "execution_count": 19,
   "id": "20057357-4550-4b3f-aae6-95af9a254e6f",
   "metadata": {},
   "outputs": [
    {
     "name": "stdout",
     "output_type": "stream",
     "text": [
      "a is zero\n",
      "outside of if statement\n"
     ]
    }
   ],
   "source": [
    "a = 0\n",
    "if a < 0:\n",
    "    print(\"a is negative\")\n",
    "elif a == 0:\n",
    "    print(\"a is zero\")\n",
    "else:\n",
    "    print(\"a is positive\")\n",
    "print(\"outside of if statement\")"
   ]
  },
  {
   "cell_type": "markdown",
   "id": "aa4a1345-526b-4396-9e1a-727cb6309bee",
   "metadata": {},
   "source": [
    "Again: indentation matters!"
   ]
  },
  {
   "cell_type": "code",
   "execution_count": 20,
   "id": "9c5a451d-bbb4-4fbc-9afa-05b6a4993b38",
   "metadata": {},
   "outputs": [
    {
     "name": "stdout",
     "output_type": "stream",
     "text": [
      "a is zero\n"
     ]
    }
   ],
   "source": [
    "a = 0\n",
    "if a < 0:\n",
    "    print(\"a is negative\")\n",
    "elif a == 0:\n",
    "    print(\"a is zero\")\n",
    "else:\n",
    "    print(\"a is positive\")\n",
    "    print(\"outside of if statement\")"
   ]
  },
  {
   "cell_type": "markdown",
   "id": "46507ade-0a14-466d-9cea-f05dc4170d89",
   "metadata": {},
   "source": [
    "## Functions"
   ]
  },
  {
   "cell_type": "code",
   "execution_count": 21,
   "id": "80344a16-2ff0-458e-88de-eb56539ebe95",
   "metadata": {},
   "outputs": [],
   "source": [
    "def add_two_numbers(a, b):\n",
    "    return a+b"
   ]
  },
  {
   "cell_type": "code",
   "execution_count": 22,
   "id": "23987b59-c349-46f5-9936-a110452574dd",
   "metadata": {},
   "outputs": [
    {
     "data": {
      "text/plain": [
       "8"
      ]
     },
     "execution_count": 22,
     "metadata": {},
     "output_type": "execute_result"
    }
   ],
   "source": [
    "add_two_numbers(3, 5)"
   ]
  },
  {
   "cell_type": "code",
   "execution_count": 23,
   "id": "c73e467b-b130-45b5-ac19-415a32956a45",
   "metadata": {},
   "outputs": [
    {
     "ename": "TypeError",
     "evalue": "add_two_numbers() missing 2 required positional arguments: 'a' and 'b'",
     "output_type": "error",
     "traceback": [
      "\u001b[0;31m---------------------------------------------------------------------------\u001b[0m",
      "\u001b[0;31mTypeError\u001b[0m                                 Traceback (most recent call last)",
      "\u001b[0;32m<ipython-input-23-343d64e03efd>\u001b[0m in \u001b[0;36m<module>\u001b[0;34m\u001b[0m\n\u001b[0;32m----> 1\u001b[0;31m \u001b[0madd_two_numbers\u001b[0m\u001b[0;34m(\u001b[0m\u001b[0;34m)\u001b[0m\u001b[0;34m\u001b[0m\u001b[0;34m\u001b[0m\u001b[0m\n\u001b[0m",
      "\u001b[0;31mTypeError\u001b[0m: add_two_numbers() missing 2 required positional arguments: 'a' and 'b'"
     ]
    }
   ],
   "source": [
    "add_two_numbers()"
   ]
  },
  {
   "cell_type": "code",
   "execution_count": 24,
   "id": "05977ce4-c9fb-4ced-80e5-bb74e6e2075c",
   "metadata": {},
   "outputs": [
    {
     "data": {
      "text/plain": [
       "-13"
      ]
     },
     "execution_count": 24,
     "metadata": {},
     "output_type": "execute_result"
    }
   ],
   "source": [
    "add_two_numbers(4, -17)"
   ]
  },
  {
   "cell_type": "markdown",
   "id": "4ed1b1e1-3905-4c49-b170-c604b6043ad3",
   "metadata": {},
   "source": [
    "## Challenge: write an absolute value function"
   ]
  },
  {
   "cell_type": "code",
   "execution_count": 25,
   "id": "8a8e1a3d-9523-4a18-8932-0a553af692ef",
   "metadata": {},
   "outputs": [
    {
     "data": {
      "text/plain": [
       "5"
      ]
     },
     "execution_count": 25,
     "metadata": {},
     "output_type": "execute_result"
    }
   ],
   "source": [
    "abs(5)"
   ]
  },
  {
   "cell_type": "code",
   "execution_count": 26,
   "id": "a7ab3c94-fef7-49c5-9b05-2c7395337e91",
   "metadata": {},
   "outputs": [
    {
     "data": {
      "text/plain": [
       "5"
      ]
     },
     "execution_count": 26,
     "metadata": {},
     "output_type": "execute_result"
    }
   ],
   "source": [
    "abs(-5)"
   ]
  },
  {
   "cell_type": "code",
   "execution_count": 27,
   "id": "19f5029c-4a3b-4b00-a419-b14c522fcc6f",
   "metadata": {},
   "outputs": [
    {
     "data": {
      "text/plain": [
       "17"
      ]
     },
     "execution_count": 27,
     "metadata": {},
     "output_type": "execute_result"
    }
   ],
   "source": [
    "abs(-17)"
   ]
  },
  {
   "cell_type": "code",
   "execution_count": 28,
   "id": "85b42df6-6ae6-49b0-9b8c-8c13f5f4babf",
   "metadata": {},
   "outputs": [
    {
     "data": {
      "text/plain": [
       "25"
      ]
     },
     "execution_count": 28,
     "metadata": {},
     "output_type": "execute_result"
    }
   ],
   "source": [
    "abs(25)"
   ]
  },
  {
   "cell_type": "code",
   "execution_count": 29,
   "id": "ae2163e8-16f4-41b6-9d50-b5432b58d694",
   "metadata": {},
   "outputs": [],
   "source": [
    "def absolute_value(n): \n",
    "    if(n < 0):\n",
    "        return n*-1 \n",
    "    else:\n",
    "        return n"
   ]
  },
  {
   "cell_type": "code",
   "execution_count": 30,
   "id": "b08f1b4e-3e9a-4938-91e0-34e9406110c0",
   "metadata": {},
   "outputs": [],
   "source": [
    "def absolute_value(n):\n",
    "    if n < 0:\n",
    "        return -n\n",
    "    else:\n",
    "        return n"
   ]
  },
  {
   "cell_type": "code",
   "execution_count": 31,
   "id": "3c876fae-7148-46a3-a8e4-38905847ff63",
   "metadata": {},
   "outputs": [],
   "source": [
    "def absolute(x):\n",
    "    if x < 0:\n",
    "        return (x - 2*x)\n",
    "    if x == 0:\n",
    "        return 0\n",
    "    if x > 0:\n",
    "        return x"
   ]
  },
  {
   "cell_type": "code",
   "execution_count": 32,
   "id": "73ccbc8b-bcba-409b-8ec4-cd884c4d9d41",
   "metadata": {},
   "outputs": [],
   "source": [
    "def absolute(x):\n",
    "    if x < 0:\n",
    "        return x - 2*x\n",
    "    elif x == 0:\n",
    "        return 0\n",
    "    elif x > 0:\n",
    "        return x"
   ]
  },
  {
   "cell_type": "code",
   "execution_count": 33,
   "id": "3ec9ce51-41bc-47b3-b5a3-b7162a02e481",
   "metadata": {},
   "outputs": [],
   "source": [
    "def absolute(x):\n",
    "    if x < 0:\n",
    "        return_value = x - 2*x\n",
    "    if x == 0:\n",
    "        return_value = 0\n",
    "    if x > 0:\n",
    "        return_value = x\n",
    "    return return_value"
   ]
  },
  {
   "cell_type": "code",
   "execution_count": null,
   "id": "1e39f377-ef04-4bb9-96ca-e7f5c3bf773b",
   "metadata": {},
   "outputs": [],
   "source": []
  }
 ],
 "metadata": {
  "kernelspec": {
   "display_name": "Python 3",
   "language": "python",
   "name": "python3"
  },
  "language_info": {
   "codemirror_mode": {
    "name": "ipython",
    "version": 3
   },
   "file_extension": ".py",
   "mimetype": "text/x-python",
   "name": "python",
   "nbconvert_exporter": "python",
   "pygments_lexer": "ipython3",
   "version": "3.7.11"
  }
 },
 "nbformat": 4,
 "nbformat_minor": 5
}
